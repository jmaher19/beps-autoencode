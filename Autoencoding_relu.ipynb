{
 "cells": [
  {
   "cell_type": "code",
   "execution_count": 1,
   "metadata": {
    "collapsed": true
   },
   "outputs": [],
   "source": [
    "# Ensure python 3 compatibility\n",
    "from __future__ import division, print_function, absolute_import\n",
    "\n",
    "# Import necessary libraries:\n",
    "# General utilities:\n",
    "import sys\n",
    "import os\n",
    "import math\n",
    "\n",
    "# Computation:\n",
    "import numpy as np\n",
    "import h5py\n",
    "\n",
    "# Visualization:\n",
    "import matplotlib.pyplot as plt\n",
    "import matplotlib.colors as colors\n",
    "import ipywidgets as widgets\n",
    "\n",
    "from IPython.display import display\n",
    "\n",
    "# Finally, pycroscopy itself\n",
    "import pycroscopy as px\n",
    "\n",
    "from os.path import join as pjoin\n",
    "\n",
    "# set up notebook to show plots within the notebook\n",
    "% matplotlib inline\n",
    "\n",
    "import glob\n",
    "\n",
    "#import moviepy.video.io.ImageSequenceClip\n",
    "#try:\n",
    "#    output = subprocess.check_output(['ffmpeg', '-version'])\n",
    "#    version = output.split(b'\\n')[0].split()[2]\n",
    "#    print('Found: ffmpeg v{}'.format(version.decode('utf-8')))\n",
    "#    ffmpeg_installed = True\n",
    "#except:\n",
    " #   ffmpeg_installed = False"
   ]
  },
  {
   "cell_type": "code",
   "execution_count": 2,
   "metadata": {},
   "outputs": [
    {
     "name": "stdout",
     "output_type": "stream",
     "text": [
      "Overwriting custom.mplstyle\n"
     ]
    }
   ],
   "source": [
    "%%file custom.mplstyle\n",
    "\n",
    "axes.linewidth: 1.5\n",
    "xtick.major.size: 6\n",
    "xtick.minor.size: 2\n",
    "xtick.major.width: 1.5\n",
    "xtick.minor.width: 1.5\n",
    "ytick.major.size: 6\n",
    "ytick.minor.size: 2\n",
    "ytick.major.width: 1.5\n",
    "ytick.minor.width: 1.5\n",
    "axes.labelweight: bold\n",
    "axes.labelpad: 1\n",
    "axes.labelsize: 12\n",
    "xtick.major.pad: 1\n",
    "ytick.major.pad: 1\n",
    "xtick.labelsize: 12\n",
    "ytick.labelsize: 12\n",
    "xtick.top: True\n",
    "ytick.right: True\n",
    "xtick.direction: in\n",
    "ytick.direction: in\n",
    "image.interpolation: nearest\n",
    "    \n",
    "# Loads the custom style\n",
    "plt.style.use('./custom.mplstyle')"
   ]
  },
  {
   "cell_type": "code",
   "execution_count": 3,
   "metadata": {},
   "outputs": [
    {
     "name": "stderr",
     "output_type": "stream",
     "text": [
      "C:\\Users\\Josh_\\Anaconda3\\lib\\site-packages\\matplotlib\\__init__.py:955: UserWarning: Illegal line #25\n",
      "\t\"plt.style.use('./custom.mplstyle')\"\n",
      "\tin file \"./custom.mplstyle\"\n",
      "  warnings.warn('Illegal %s' % error_details)\n"
     ]
    }
   ],
   "source": [
    "plt.style.use('./custom.mplstyle')"
   ]
  },
  {
   "cell_type": "code",
   "execution_count": 4,
   "metadata": {},
   "outputs": [
    {
     "name": "stdout",
     "output_type": "stream",
     "text": [
      "File is already Pycroscopy ready.\n",
      "Working on:\n",
      "D:/PZT001_BEPs_0003.h5\n"
     ]
    }
   ],
   "source": [
    " input_file_path ='D:/PZT001_BEPs_0003.h5' #px.io_utils.uiGetFile(caption='Select translated .h5 file or raw experiment data',\n",
    "                                         #filter='Translated file (*.h5);; \\\\ Parameters for raw BE data (*.txt *.mat *xls *.xlsx)')\n",
    "\n",
    "(data_dir, data_name) = os.path.split(input_file_path)\n",
    "\n",
    "if input_file_path.endswith('.h5'):\n",
    "    # No translation here\n",
    "    h5_path = input_file_path\n",
    "    tl = px.LabViewH5Patcher()\n",
    "    hdf = tl.translate(h5_path)\n",
    "else:\n",
    "    # Set the data to be translated\n",
    "    data_path = input_file_path\n",
    "\n",
    "    (junk, base_name) = os.path.split(data_dir)\n",
    "\n",
    "    # Check if the data is in the new or old format.  Initialize the correct translator for the format.\n",
    "    if base_name == 'newdataformat':\n",
    "        (junk, base_name) = os.path.split(junk)\n",
    "        translator = px.BEPSndfTranslator(max_mem_mb=max_mem)\n",
    "    else:\n",
    "        translator = px.BEodfTranslator(max_mem_mb=max_mem)\n",
    "    if base_name.endswith('_d'):\n",
    "        base_name = base_name[:-2]\n",
    "    # Translate the data\n",
    "    h5_path = translator.translate(data_path, show_plots=True, save_plots=False)\n",
    "    tl = px.LabViewH5Patcher()\n",
    "    hdf = tl.translate(h5_path)\n",
    "print('Working on:\\n' + h5_path)\n",
    "\n",
    "h5_main = px.hdf_utils.getDataSet(hdf.file, 'Raw_Data')[0]"
   ]
  },
  {
   "cell_type": "code",
   "execution_count": 5,
   "metadata": {},
   "outputs": [
    {
     "name": "stdout",
     "output_type": "stream",
     "text": [
      "Taking previous SHO results already present in file\n"
     ]
    }
   ],
   "source": [
    "h5_sho_group = px.hdf_utils.findH5group(h5_main, 'SHO_Fit')\n",
    "sho_fitter = px.BESHOmodel(h5_main, parallel=True)\n",
    "if len(h5_sho_group) == 0:\n",
    "    print('No SHO fit found. Doing SHO Fitting now')\n",
    "    h5_sho_guess = sho_fitter.do_guess(strategy='complex_gaussian', processors=max_cores)\n",
    "    h5_sho_fit = sho_fitter.do_fit(processors=max_cores)\n",
    "else:\n",
    "    print('Taking previous SHO results already present in file')\n",
    "    h5_sho_guess = h5_sho_group[-1]['Guess']\n",
    "    try:\n",
    "        h5_sho_fit = h5_sho_group[-1]['Fit']\n",
    "    except KeyError:\n",
    "        print('Previously computed guess found. Now computing fit')\n",
    "        h5_sho_fit = sho_fitter.do_fit(processors=max_cores, h5_guess=h5_sho_guess)"
   ]
  },
  {
   "cell_type": "code",
   "execution_count": null,
   "metadata": {
    "collapsed": true
   },
   "outputs": [],
   "source": [
    "# Specify output file path\n",
    "output_file_path = './'\n",
    "\n",
    "# If HV amplifier was used set high_voltage_amplf to 10, else to 1\n",
    "high_voltage_amplf = 10\n"
   ]
  },
  {
   "cell_type": "code",
   "execution_count": 6,
   "metadata": {},
   "outputs": [
    {
     "name": "stdout",
     "output_type": "stream",
     "text": [
      "Reshape Success = True\n",
      "Nd_mat shape =  (80, 80, 128, 2, 3)\n",
      "Phase offset [rad] =  0.342565\n"
     ]
    }
   ],
   "source": [
    "(Nd_mat, success) = px.io.hdf_utils.reshape_to_Ndims(h5_sho_fit)\n",
    "print('Reshape Success = ' + str(success))\n",
    "print('Nd_mat shape = ', Nd_mat.shape)\n",
    "\n",
    "phase_offset = Nd_mat[0, 0, 1, 0, 0]['Phase [rad]']\n",
    "\n",
    "# phase_offset = 0;\n",
    "\n",
    "print('Phase offset [rad] = ', phase_offset)\n",
    "\n",
    "Nd_mat[:,:,:,:,:]['Phase [rad]'] = Nd_mat[:,:,:,:,:]['Phase [rad]'] - phase_offset"
   ]
  },
  {
   "cell_type": "code",
   "execution_count": null,
   "metadata": {
    "collapsed": true
   },
   "outputs": [],
   "source": [
    "Nd_mat[\"Phase [rad]\"].shape[2]"
   ]
  },
  {
   "cell_type": "code",
   "execution_count": 7,
   "metadata": {},
   "outputs": [
    {
     "name": "stderr",
     "output_type": "stream",
     "text": [
      "Using TensorFlow backend.\n"
     ]
    }
   ],
   "source": [
    "#os.environ[\"CUDA_DEVICE_ORDER\"] = \"PCI_BUS_ID\"   # see issue #152\n",
    "import os\n",
    "#os.environ['CUDA_VISIBLE_DEVICES'] = '0'\n",
    "\n",
    "from scipy import io\n",
    "import numpy as np\n",
    "import pycroscopy as px\n",
    "import matplotlib.pyplot as plt\n",
    "from os.path import join as pjoin\n",
    "from sklearn.manifold import TSNE\n",
    "from sklearn.preprocessing import StandardScaler\n",
    "import keras\n",
    "from keras.models import Sequential, Input, Model\n",
    "from keras.layers import (Dense, Conv1D, Convolution2D, GRU, LSTM, Recurrent, Bidirectional, TimeDistributed,\n",
    "                          Dropout, Flatten, RepeatVector, Reshape, MaxPooling1D, UpSampling1D, BatchNormalization)\n",
    "from keras.layers.core import Lambda\n",
    "from keras.optimizers import Adam\n",
    "import os\n",
    "from os.path import join as pjoin\n",
    "from keras.regularizers import l1\n",
    "import sys\n",
    "\n",
    "\n",
    "% matplotlib inline"
   ]
  },
  {
   "cell_type": "code",
   "execution_count": null,
   "metadata": {
    "collapsed": true
   },
   "outputs": [],
   "source": [
    "len(qf_on.reshape(-1))"
   ]
  },
  {
   "cell_type": "code",
   "execution_count": 10,
   "metadata": {
    "collapsed": true
   },
   "outputs": [],
   "source": [
    "for i in range(len(qf_on.reshape(-1))):\n",
    "    if qf_on.reshape(-1)[i] > 900:\n",
    "        qf_on.reshape(-1)[i] = np.mean(qf_on)\n",
    "        \n",
    "for i in range(len(qf_off.reshape(-1))):\n",
    "    if qf_off.reshape(-1)[i] > 900:\n",
    "        qf_off.reshape(-1)[i] = np.mean(qf_off)"
   ]
  },
  {
   "cell_type": "code",
   "execution_count": 8,
   "metadata": {
    "collapsed": true
   },
   "outputs": [],
   "source": [
    "def norm(indat):\n",
    "    indat-=np.mean(indat)\n",
    "    indat/=np.std(indat)\n",
    "    return indat"
   ]
  },
  {
   "cell_type": "code",
   "execution_count": null,
   "metadata": {
    "collapsed": true
   },
   "outputs": [],
   "source": [
    "plt.hist(qf_on.reshape(-1),100)"
   ]
  },
  {
   "cell_type": "code",
   "execution_count": null,
   "metadata": {
    "collapsed": true
   },
   "outputs": [],
   "source": [
    "np.std((Nd_mat[\"Amplitude [V]\"][:,:,:,1,2].reshape(-1)))"
   ]
  },
  {
   "cell_type": "code",
   "execution_count": 9,
   "metadata": {
    "collapsed": true
   },
   "outputs": [],
   "source": [
    "amp_off = np.atleast_3d(Nd_mat[\"Amplitude [V]\"][:,:,:,1,2].reshape(-1,128))\n",
    "phase_off = np.atleast_3d(Nd_mat[\"Phase [rad]\"][:,:,:,1,2].reshape(-1,128))\n",
    "freq_off = np.atleast_3d(Nd_mat[\"Frequency [Hz]\"][:,:,:,1,2].reshape(-1,128))\n",
    "qf_off = np.atleast_3d(Nd_mat[\"Quality Factor\"][:,:,:,1,2].reshape(-1,128))\n",
    "\n",
    "amp_on = np.atleast_3d(Nd_mat[\"Amplitude [V]\"][:,:,:,0,2].reshape(-1,128))\n",
    "phase_on = np.atleast_3d(Nd_mat[\"Phase [rad]\"][:,:,:,0,2].reshape(-1,128))\n",
    "freq_on = np.atleast_3d(Nd_mat[\"Frequency [Hz]\"][:,:,:,0,2].reshape(-1,128))\n",
    "qf_on= np.atleast_3d(Nd_mat[\"Quality Factor\"][:,:,:,0,2].reshape(-1,128))"
   ]
  },
  {
   "cell_type": "code",
   "execution_count": 11,
   "metadata": {
    "collapsed": true
   },
   "outputs": [],
   "source": [
    "amp_off = np.atleast_3d(norm(amp_off))\n",
    "phase_off = np.atleast_3d(norm(phase_off))\n",
    "freq_off = np.atleast_3d(norm(freq_off))\n",
    "qf_off = np.atleast_3d(norm(qf_off))\n",
    "\n",
    "amp_on = np.atleast_3d(norm(amp_on))\n",
    "phase_on = np.atleast_3d(norm(phase_on))\n",
    "freq_on = np.atleast_3d(norm(freq_on))\n",
    "qf_on= np.atleast_3d(norm(qf_on))"
   ]
  },
  {
   "cell_type": "code",
   "execution_count": null,
   "metadata": {
    "collapsed": true
   },
   "outputs": [],
   "source": []
  },
  {
   "cell_type": "code",
   "execution_count": 12,
   "metadata": {
    "collapsed": true
   },
   "outputs": [],
   "source": [
    "def make_folder(folder_name, root='./'):\n",
    "\n",
    "    folder = pjoin(root, '{}'.format(folder_name))\n",
    "    os.makedirs(folder, exist_ok=True)\n",
    "\n",
    "    return (folder)"
   ]
  },
  {
   "cell_type": "code",
   "execution_count": 13,
   "metadata": {
    "collapsed": true
   },
   "outputs": [],
   "source": [
    "def encode_layer(size, numbernodes,x):\n",
    "    for i in range(size-1):\n",
    "        x = Bidirectional(LSTM(numbernodes, return_sequences=True))(x)\n",
    "    out = Bidirectional(LSTM(numbernodes, return_sequences=False))(x)\n",
    "    return out"
   ]
  },
  {
   "cell_type": "code",
   "execution_count": 14,
   "metadata": {
    "collapsed": true
   },
   "outputs": [],
   "source": [
    "def decode_layer(size, numbernodes,x):\n",
    "    x = RepeatVector(128)(x)\n",
    "    for i in range(size):\n",
    "        x = Bidirectional(LSTM(numbernodes, return_sequences=True))(x)\n",
    "    x = TimeDistributed(Dense(1, activation='relu'))(x)\n",
    "    return x"
   ]
  },
  {
   "cell_type": "code",
   "execution_count": 15,
   "metadata": {
    "collapsed": true
   },
   "outputs": [],
   "source": [
    "input_on_amp = Input(shape=(Nd_mat[\"Phase [rad]\"].shape[2],1))\n",
    "input_off_amp =Input(shape=(Nd_mat[\"Phase [rad]\"].shape[2],1))\n",
    "input_on_phase =Input(shape=(Nd_mat[\"Phase [rad]\"].shape[2],1))\n",
    "input_off_phase =Input(shape=(Nd_mat[\"Phase [rad]\"].shape[2],1))\n",
    "input_on_resonance =Input(shape=(Nd_mat[\"Phase [rad]\"].shape[2],1))\n",
    "input_off_resonance = Input(shape=(Nd_mat[\"Phase [rad]\"].shape[2],1))\n",
    "input_on_loss =Input(shape=(Nd_mat[\"Phase [rad]\"].shape[2],1))\n",
    "input_off_loss =Input(shape=(Nd_mat[\"Phase [rad]\"].shape[2],1))\n",
    "\n",
    "\n",
    "en_out_a_on = encode_layer(3,16,input_on_amp)\n",
    "en_out_a_on = Dense(4, activation='relu',activity_regularizer=l1(10e-4))(en_out_a_on)\n",
    "en_out_a_off = encode_layer(3,16,input_off_amp)\n",
    "en_out_a_off = Dense(4, activation='relu',activity_regularizer=l1(10e-4))(en_out_a_off)\n",
    "en_out_p_on = encode_layer(3,16,input_on_phase)\n",
    "en_out_p_on = Dense(4, activation='relu',activity_regularizer=l1(10e-4))(en_out_p_on)\n",
    "en_out_p_off = encode_layer(3,16,input_off_phase)\n",
    "en_out_p_off = Dense(4, activation='relu',activity_regularizer=l1(10e-4))(en_out_p_off)\n",
    "en_out_r_on = encode_layer(3,16,input_on_resonance)\n",
    "en_out_r_on = Dense(4, activation='relu',activity_regularizer=l1(10e-4))(en_out_r_on)\n",
    "en_out_r_off = encode_layer(3,16,input_off_resonance)\n",
    "en_out_r_off = Dense(4, activation='relu',activity_regularizer=l1(10e-4))(en_out_r_off)\n",
    "en_out_l_on = encode_layer(3,16,input_on_loss)\n",
    "en_out_l_on = Dense(4, activation='relu',activity_regularizer=l1(10e-4))(en_out_l_on)\n",
    "en_out_l_off = encode_layer(3,16,input_off_loss)\n",
    "en_out_l_off = Dense(4, activation='relu',activity_regularizer=l1(10e-4))(en_out_l_off)\n",
    "\n",
    "\n",
    "\n",
    "x = keras.layers.concatenate([en_out_a_on, en_out_a_off, en_out_p_on, en_out_p_off,\n",
    "                              en_out_r_on, en_out_r_off, en_out_l_on, en_out_l_off])\n",
    "\n",
    "x = Dense(12, activation='relu',activity_regularizer=l1(10e-4))(x)\n",
    "\n",
    "de_out_a_on = decode_layer(3,16,x)\n",
    "de_out_a_off =decode_layer(3,16,x)\n",
    "de_out_p_on = decode_layer(3,16,x)\n",
    "de_out_p_off =decode_layer(3,16,x)\n",
    "de_out_r_on = decode_layer(3,16,x)\n",
    "de_out_r_off =decode_layer(3,16,x)\n",
    "de_out_l_on = decode_layer(3,16,x)\n",
    "de_out_l_off =decode_layer(3,16,x)\n",
    "\n",
    "model = Model(inputs=[input_on_amp, input_off_amp, input_on_phase, input_off_phase, input_on_resonance,\n",
    "                      input_off_resonance, input_on_loss, input_off_loss], \n",
    "              outputs=[de_out_a_on, de_out_a_off, de_out_p_on, de_out_p_off, de_out_r_on, de_out_r_off,\n",
    "                       de_out_l_on, de_out_l_off])\n",
    "\n",
    "model.compile(optimizer=Adam(3e-5),loss='mse')#"
   ]
  },
  {
   "cell_type": "code",
   "execution_count": 17,
   "metadata": {
    "collapsed": true
   },
   "outputs": [],
   "source": [
    "model = keras.models.load_model(\"try6/weights.54-7.96.hdf5\")"
   ]
  },
  {
   "cell_type": "code",
   "execution_count": 16,
   "metadata": {},
   "outputs": [
    {
     "name": "stdout",
     "output_type": "stream",
     "text": [
      "Train on 6400 samples, validate on 6400 samples\n",
      "Epoch 1/20000\n"
     ]
    },
    {
     "ename": "InternalError",
     "evalue": "Blas GEMM launch failed : a.shape=(1024, 16), b.shape=(16, 16), m=1024, n=16, k=16\n\t [[Node: bidirectional_4/while/MatMul_4 = MatMul[T=DT_FLOAT, transpose_a=false, transpose_b=false, _device=\"/job:localhost/replica:0/task:0/gpu:0\"](bidirectional_4/while/Identity_2, bidirectional_4/while/MatMul_4/Enter)]]\n\t [[Node: loss/time_distributed_8_loss/Mean_3/_2287 = _Recv[client_terminated=false, recv_device=\"/job:localhost/replica:0/task:0/cpu:0\", send_device=\"/job:localhost/replica:0/task:0/gpu:0\", send_device_incarnation=1, tensor_name=\"edge_158730_loss/time_distributed_8_loss/Mean_3\", tensor_type=DT_FLOAT, _device=\"/job:localhost/replica:0/task:0/cpu:0\"]()]]\n\nCaused by op 'bidirectional_4/while/MatMul_4', defined at:\n  File \"C:\\Users\\Josh_\\Anaconda3\\lib\\runpy.py\", line 193, in _run_module_as_main\n    \"__main__\", mod_spec)\n  File \"C:\\Users\\Josh_\\Anaconda3\\lib\\runpy.py\", line 85, in _run_code\n    exec(code, run_globals)\n  File \"C:\\Users\\Josh_\\Anaconda3\\lib\\site-packages\\ipykernel_launcher.py\", line 16, in <module>\n    app.launch_new_instance()\n  File \"C:\\Users\\Josh_\\Anaconda3\\lib\\site-packages\\traitlets\\config\\application.py\", line 658, in launch_instance\n    app.start()\n  File \"C:\\Users\\Josh_\\Anaconda3\\lib\\site-packages\\ipykernel\\kernelapp.py\", line 477, in start\n    ioloop.IOLoop.instance().start()\n  File \"C:\\Users\\Josh_\\Anaconda3\\lib\\site-packages\\zmq\\eventloop\\ioloop.py\", line 177, in start\n    super(ZMQIOLoop, self).start()\n  File \"C:\\Users\\Josh_\\Anaconda3\\lib\\site-packages\\tornado\\ioloop.py\", line 888, in start\n    handler_func(fd_obj, events)\n  File \"C:\\Users\\Josh_\\Anaconda3\\lib\\site-packages\\tornado\\stack_context.py\", line 277, in null_wrapper\n    return fn(*args, **kwargs)\n  File \"C:\\Users\\Josh_\\Anaconda3\\lib\\site-packages\\zmq\\eventloop\\zmqstream.py\", line 440, in _handle_events\n    self._handle_recv()\n  File \"C:\\Users\\Josh_\\Anaconda3\\lib\\site-packages\\zmq\\eventloop\\zmqstream.py\", line 472, in _handle_recv\n    self._run_callback(callback, msg)\n  File \"C:\\Users\\Josh_\\Anaconda3\\lib\\site-packages\\zmq\\eventloop\\zmqstream.py\", line 414, in _run_callback\n    callback(*args, **kwargs)\n  File \"C:\\Users\\Josh_\\Anaconda3\\lib\\site-packages\\tornado\\stack_context.py\", line 277, in null_wrapper\n    return fn(*args, **kwargs)\n  File \"C:\\Users\\Josh_\\Anaconda3\\lib\\site-packages\\ipykernel\\kernelbase.py\", line 283, in dispatcher\n    return self.dispatch_shell(stream, msg)\n  File \"C:\\Users\\Josh_\\Anaconda3\\lib\\site-packages\\ipykernel\\kernelbase.py\", line 235, in dispatch_shell\n    handler(stream, idents, msg)\n  File \"C:\\Users\\Josh_\\Anaconda3\\lib\\site-packages\\ipykernel\\kernelbase.py\", line 399, in execute_request\n    user_expressions, allow_stdin)\n  File \"C:\\Users\\Josh_\\Anaconda3\\lib\\site-packages\\ipykernel\\ipkernel.py\", line 196, in do_execute\n    res = shell.run_cell(code, store_history=store_history, silent=silent)\n  File \"C:\\Users\\Josh_\\Anaconda3\\lib\\site-packages\\ipykernel\\zmqshell.py\", line 533, in run_cell\n    return super(ZMQInteractiveShell, self).run_cell(*args, **kwargs)\n  File \"C:\\Users\\Josh_\\Anaconda3\\lib\\site-packages\\IPython\\core\\interactiveshell.py\", line 2728, in run_cell\n    interactivity=interactivity, compiler=compiler, result=result)\n  File \"C:\\Users\\Josh_\\Anaconda3\\lib\\site-packages\\IPython\\core\\interactiveshell.py\", line 2850, in run_ast_nodes\n    if self.run_code(code, result):\n  File \"C:\\Users\\Josh_\\Anaconda3\\lib\\site-packages\\IPython\\core\\interactiveshell.py\", line 2910, in run_code\n    exec(code_obj, self.user_global_ns, self.user_ns)\n  File \"<ipython-input-15-6d50e6de77d1>\", line 13, in <module>\n    en_out_a_off = encode_layer(3,16,input_off_amp)\n  File \"<ipython-input-13-66729a356738>\", line 3, in encode_layer\n    x = Bidirectional(LSTM(numbernodes, return_sequences=True))(x)\n  File \"C:\\Users\\Josh_\\Anaconda3\\lib\\site-packages\\keras\\engine\\topology.py\", line 603, in __call__\n    output = self.call(inputs, **kwargs)\n  File \"C:\\Users\\Josh_\\Anaconda3\\lib\\site-packages\\keras\\layers\\wrappers.py\", line 290, in call\n    y = self.forward_layer.call(inputs, **kwargs)\n  File \"C:\\Users\\Josh_\\Anaconda3\\lib\\site-packages\\keras\\layers\\recurrent.py\", line 2023, in call\n    initial_state=initial_state)\n  File \"C:\\Users\\Josh_\\Anaconda3\\lib\\site-packages\\keras\\layers\\recurrent.py\", line 589, in call\n    input_length=timesteps)\n  File \"C:\\Users\\Josh_\\Anaconda3\\lib\\site-packages\\keras\\backend\\tensorflow_backend.py\", line 2646, in rnn\n    swap_memory=True)\n  File \"C:\\Users\\Josh_\\Anaconda3\\lib\\site-packages\\tensorflow\\python\\ops\\control_flow_ops.py\", line 2775, in while_loop\n    result = context.BuildLoop(cond, body, loop_vars, shape_invariants)\n  File \"C:\\Users\\Josh_\\Anaconda3\\lib\\site-packages\\tensorflow\\python\\ops\\control_flow_ops.py\", line 2604, in BuildLoop\n    pred, body, original_loop_vars, loop_vars, shape_invariants)\n  File \"C:\\Users\\Josh_\\Anaconda3\\lib\\site-packages\\tensorflow\\python\\ops\\control_flow_ops.py\", line 2554, in _BuildLoop\n    body_result = body(*packed_vars_for_body)\n  File \"C:\\Users\\Josh_\\Anaconda3\\lib\\site-packages\\keras\\backend\\tensorflow_backend.py\", line 2632, in _step\n    tuple(constants))\n  File \"C:\\Users\\Josh_\\Anaconda3\\lib\\site-packages\\keras\\layers\\recurrent.py\", line 580, in step\n    return self.cell.call(inputs, states, **kwargs)\n  File \"C:\\Users\\Josh_\\Anaconda3\\lib\\site-packages\\keras\\layers\\recurrent.py\", line 1836, in call\n    self.recurrent_kernel_i))\n  File \"C:\\Users\\Josh_\\Anaconda3\\lib\\site-packages\\keras\\backend\\tensorflow_backend.py\", line 1057, in dot\n    out = tf.matmul(x, y)\n  File \"C:\\Users\\Josh_\\Anaconda3\\lib\\site-packages\\tensorflow\\python\\ops\\math_ops.py\", line 1844, in matmul\n    a, b, transpose_a=transpose_a, transpose_b=transpose_b, name=name)\n  File \"C:\\Users\\Josh_\\Anaconda3\\lib\\site-packages\\tensorflow\\python\\ops\\gen_math_ops.py\", line 1289, in _mat_mul\n    transpose_b=transpose_b, name=name)\n  File \"C:\\Users\\Josh_\\Anaconda3\\lib\\site-packages\\tensorflow\\python\\framework\\op_def_library.py\", line 767, in apply_op\n    op_def=op_def)\n  File \"C:\\Users\\Josh_\\Anaconda3\\lib\\site-packages\\tensorflow\\python\\framework\\ops.py\", line 2630, in create_op\n    original_op=self._default_original_op, op_def=op_def)\n  File \"C:\\Users\\Josh_\\Anaconda3\\lib\\site-packages\\tensorflow\\python\\framework\\ops.py\", line 1204, in __init__\n    self._traceback = self._graph._extract_stack()  # pylint: disable=protected-access\n\nInternalError (see above for traceback): Blas GEMM launch failed : a.shape=(1024, 16), b.shape=(16, 16), m=1024, n=16, k=16\n\t [[Node: bidirectional_4/while/MatMul_4 = MatMul[T=DT_FLOAT, transpose_a=false, transpose_b=false, _device=\"/job:localhost/replica:0/task:0/gpu:0\"](bidirectional_4/while/Identity_2, bidirectional_4/while/MatMul_4/Enter)]]\n\t [[Node: loss/time_distributed_8_loss/Mean_3/_2287 = _Recv[client_terminated=false, recv_device=\"/job:localhost/replica:0/task:0/cpu:0\", send_device=\"/job:localhost/replica:0/task:0/gpu:0\", send_device_incarnation=1, tensor_name=\"edge_158730_loss/time_distributed_8_loss/Mean_3\", tensor_type=DT_FLOAT, _device=\"/job:localhost/replica:0/task:0/cpu:0\"]()]]\n",
     "output_type": "error",
     "traceback": [
      "\u001b[1;31m---------------------------------------------------------------------------\u001b[0m",
      "\u001b[1;31mInternalError\u001b[0m                             Traceback (most recent call last)",
      "\u001b[1;32m~\\Anaconda3\\lib\\site-packages\\tensorflow\\python\\client\\session.py\u001b[0m in \u001b[0;36m_do_call\u001b[1;34m(self, fn, *args)\u001b[0m\n\u001b[0;32m   1326\u001b[0m     \u001b[1;32mtry\u001b[0m\u001b[1;33m:\u001b[0m\u001b[1;33m\u001b[0m\u001b[0m\n\u001b[1;32m-> 1327\u001b[1;33m       \u001b[1;32mreturn\u001b[0m \u001b[0mfn\u001b[0m\u001b[1;33m(\u001b[0m\u001b[1;33m*\u001b[0m\u001b[0margs\u001b[0m\u001b[1;33m)\u001b[0m\u001b[1;33m\u001b[0m\u001b[0m\n\u001b[0m\u001b[0;32m   1328\u001b[0m     \u001b[1;32mexcept\u001b[0m \u001b[0merrors\u001b[0m\u001b[1;33m.\u001b[0m\u001b[0mOpError\u001b[0m \u001b[1;32mas\u001b[0m \u001b[0me\u001b[0m\u001b[1;33m:\u001b[0m\u001b[1;33m\u001b[0m\u001b[0m\n",
      "\u001b[1;32m~\\Anaconda3\\lib\\site-packages\\tensorflow\\python\\client\\session.py\u001b[0m in \u001b[0;36m_run_fn\u001b[1;34m(session, feed_dict, fetch_list, target_list, options, run_metadata)\u001b[0m\n\u001b[0;32m   1305\u001b[0m                                    \u001b[0mfeed_dict\u001b[0m\u001b[1;33m,\u001b[0m \u001b[0mfetch_list\u001b[0m\u001b[1;33m,\u001b[0m \u001b[0mtarget_list\u001b[0m\u001b[1;33m,\u001b[0m\u001b[1;33m\u001b[0m\u001b[0m\n\u001b[1;32m-> 1306\u001b[1;33m                                    status, run_metadata)\n\u001b[0m\u001b[0;32m   1307\u001b[0m \u001b[1;33m\u001b[0m\u001b[0m\n",
      "\u001b[1;32m~\\Anaconda3\\lib\\contextlib.py\u001b[0m in \u001b[0;36m__exit__\u001b[1;34m(self, type, value, traceback)\u001b[0m\n\u001b[0;32m     88\u001b[0m             \u001b[1;32mtry\u001b[0m\u001b[1;33m:\u001b[0m\u001b[1;33m\u001b[0m\u001b[0m\n\u001b[1;32m---> 89\u001b[1;33m                 \u001b[0mnext\u001b[0m\u001b[1;33m(\u001b[0m\u001b[0mself\u001b[0m\u001b[1;33m.\u001b[0m\u001b[0mgen\u001b[0m\u001b[1;33m)\u001b[0m\u001b[1;33m\u001b[0m\u001b[0m\n\u001b[0m\u001b[0;32m     90\u001b[0m             \u001b[1;32mexcept\u001b[0m \u001b[0mStopIteration\u001b[0m\u001b[1;33m:\u001b[0m\u001b[1;33m\u001b[0m\u001b[0m\n",
      "\u001b[1;32m~\\Anaconda3\\lib\\site-packages\\tensorflow\\python\\framework\\errors_impl.py\u001b[0m in \u001b[0;36mraise_exception_on_not_ok_status\u001b[1;34m()\u001b[0m\n\u001b[0;32m    465\u001b[0m           \u001b[0mcompat\u001b[0m\u001b[1;33m.\u001b[0m\u001b[0mas_text\u001b[0m\u001b[1;33m(\u001b[0m\u001b[0mpywrap_tensorflow\u001b[0m\u001b[1;33m.\u001b[0m\u001b[0mTF_Message\u001b[0m\u001b[1;33m(\u001b[0m\u001b[0mstatus\u001b[0m\u001b[1;33m)\u001b[0m\u001b[1;33m)\u001b[0m\u001b[1;33m,\u001b[0m\u001b[1;33m\u001b[0m\u001b[0m\n\u001b[1;32m--> 466\u001b[1;33m           pywrap_tensorflow.TF_GetCode(status))\n\u001b[0m\u001b[0;32m    467\u001b[0m   \u001b[1;32mfinally\u001b[0m\u001b[1;33m:\u001b[0m\u001b[1;33m\u001b[0m\u001b[0m\n",
      "\u001b[1;31mInternalError\u001b[0m: Blas GEMM launch failed : a.shape=(1024, 16), b.shape=(16, 16), m=1024, n=16, k=16\n\t [[Node: bidirectional_4/while/MatMul_4 = MatMul[T=DT_FLOAT, transpose_a=false, transpose_b=false, _device=\"/job:localhost/replica:0/task:0/gpu:0\"](bidirectional_4/while/Identity_2, bidirectional_4/while/MatMul_4/Enter)]]\n\t [[Node: loss/time_distributed_8_loss/Mean_3/_2287 = _Recv[client_terminated=false, recv_device=\"/job:localhost/replica:0/task:0/cpu:0\", send_device=\"/job:localhost/replica:0/task:0/gpu:0\", send_device_incarnation=1, tensor_name=\"edge_158730_loss/time_distributed_8_loss/Mean_3\", tensor_type=DT_FLOAT, _device=\"/job:localhost/replica:0/task:0/cpu:0\"]()]]",
      "\nDuring handling of the above exception, another exception occurred:\n",
      "\u001b[1;31mInternalError\u001b[0m                             Traceback (most recent call last)",
      "\u001b[1;32m<ipython-input-16-618f38591264>\u001b[0m in \u001b[0;36m<module>\u001b[1;34m()\u001b[0m\n\u001b[0;32m     16\u001b[0m           validation_data=([amp_off,phase_off,freq_off,qf_off, amp_on, phase_on, freq_on, qf_on], \n\u001b[0;32m     17\u001b[0m           [amp_off,phase_off,freq_off,qf_off, amp_on, phase_on, freq_on, qf_on]),\n\u001b[1;32m---> 18\u001b[1;33m           epochs=20000,batch_size=1024, callbacks=[tbCallBack, checkpoint])\n\u001b[0m",
      "\u001b[1;32m~\\Anaconda3\\lib\\site-packages\\keras\\engine\\training.py\u001b[0m in \u001b[0;36mfit\u001b[1;34m(self, x, y, batch_size, epochs, verbose, callbacks, validation_split, validation_data, shuffle, class_weight, sample_weight, initial_epoch, steps_per_epoch, validation_steps, **kwargs)\u001b[0m\n\u001b[0;32m   1655\u001b[0m                               \u001b[0minitial_epoch\u001b[0m\u001b[1;33m=\u001b[0m\u001b[0minitial_epoch\u001b[0m\u001b[1;33m,\u001b[0m\u001b[1;33m\u001b[0m\u001b[0m\n\u001b[0;32m   1656\u001b[0m                               \u001b[0msteps_per_epoch\u001b[0m\u001b[1;33m=\u001b[0m\u001b[0msteps_per_epoch\u001b[0m\u001b[1;33m,\u001b[0m\u001b[1;33m\u001b[0m\u001b[0m\n\u001b[1;32m-> 1657\u001b[1;33m                               validation_steps=validation_steps)\n\u001b[0m\u001b[0;32m   1658\u001b[0m \u001b[1;33m\u001b[0m\u001b[0m\n\u001b[0;32m   1659\u001b[0m     def evaluate(self, x=None, y=None,\n",
      "\u001b[1;32m~\\Anaconda3\\lib\\site-packages\\keras\\engine\\training.py\u001b[0m in \u001b[0;36m_fit_loop\u001b[1;34m(self, f, ins, out_labels, batch_size, epochs, verbose, callbacks, val_f, val_ins, shuffle, callback_metrics, initial_epoch, steps_per_epoch, validation_steps)\u001b[0m\n\u001b[0;32m   1211\u001b[0m                     \u001b[0mbatch_logs\u001b[0m\u001b[1;33m[\u001b[0m\u001b[1;34m'size'\u001b[0m\u001b[1;33m]\u001b[0m \u001b[1;33m=\u001b[0m \u001b[0mlen\u001b[0m\u001b[1;33m(\u001b[0m\u001b[0mbatch_ids\u001b[0m\u001b[1;33m)\u001b[0m\u001b[1;33m\u001b[0m\u001b[0m\n\u001b[0;32m   1212\u001b[0m                     \u001b[0mcallbacks\u001b[0m\u001b[1;33m.\u001b[0m\u001b[0mon_batch_begin\u001b[0m\u001b[1;33m(\u001b[0m\u001b[0mbatch_index\u001b[0m\u001b[1;33m,\u001b[0m \u001b[0mbatch_logs\u001b[0m\u001b[1;33m)\u001b[0m\u001b[1;33m\u001b[0m\u001b[0m\n\u001b[1;32m-> 1213\u001b[1;33m                     \u001b[0mouts\u001b[0m \u001b[1;33m=\u001b[0m \u001b[0mf\u001b[0m\u001b[1;33m(\u001b[0m\u001b[0mins_batch\u001b[0m\u001b[1;33m)\u001b[0m\u001b[1;33m\u001b[0m\u001b[0m\n\u001b[0m\u001b[0;32m   1214\u001b[0m                     \u001b[1;32mif\u001b[0m \u001b[1;32mnot\u001b[0m \u001b[0misinstance\u001b[0m\u001b[1;33m(\u001b[0m\u001b[0mouts\u001b[0m\u001b[1;33m,\u001b[0m \u001b[0mlist\u001b[0m\u001b[1;33m)\u001b[0m\u001b[1;33m:\u001b[0m\u001b[1;33m\u001b[0m\u001b[0m\n\u001b[0;32m   1215\u001b[0m                         \u001b[0mouts\u001b[0m \u001b[1;33m=\u001b[0m \u001b[1;33m[\u001b[0m\u001b[0mouts\u001b[0m\u001b[1;33m]\u001b[0m\u001b[1;33m\u001b[0m\u001b[0m\n",
      "\u001b[1;32m~\\Anaconda3\\lib\\site-packages\\keras\\backend\\tensorflow_backend.py\u001b[0m in \u001b[0;36m__call__\u001b[1;34m(self, inputs)\u001b[0m\n\u001b[0;32m   2355\u001b[0m         \u001b[0msession\u001b[0m \u001b[1;33m=\u001b[0m \u001b[0mget_session\u001b[0m\u001b[1;33m(\u001b[0m\u001b[1;33m)\u001b[0m\u001b[1;33m\u001b[0m\u001b[0m\n\u001b[0;32m   2356\u001b[0m         updated = session.run(fetches=fetches, feed_dict=feed_dict,\n\u001b[1;32m-> 2357\u001b[1;33m                               **self.session_kwargs)\n\u001b[0m\u001b[0;32m   2358\u001b[0m         \u001b[1;32mreturn\u001b[0m \u001b[0mupdated\u001b[0m\u001b[1;33m[\u001b[0m\u001b[1;33m:\u001b[0m\u001b[0mlen\u001b[0m\u001b[1;33m(\u001b[0m\u001b[0mself\u001b[0m\u001b[1;33m.\u001b[0m\u001b[0moutputs\u001b[0m\u001b[1;33m)\u001b[0m\u001b[1;33m]\u001b[0m\u001b[1;33m\u001b[0m\u001b[0m\n\u001b[0;32m   2359\u001b[0m \u001b[1;33m\u001b[0m\u001b[0m\n",
      "\u001b[1;32m~\\Anaconda3\\lib\\site-packages\\tensorflow\\python\\client\\session.py\u001b[0m in \u001b[0;36mrun\u001b[1;34m(self, fetches, feed_dict, options, run_metadata)\u001b[0m\n\u001b[0;32m    893\u001b[0m     \u001b[1;32mtry\u001b[0m\u001b[1;33m:\u001b[0m\u001b[1;33m\u001b[0m\u001b[0m\n\u001b[0;32m    894\u001b[0m       result = self._run(None, fetches, feed_dict, options_ptr,\n\u001b[1;32m--> 895\u001b[1;33m                          run_metadata_ptr)\n\u001b[0m\u001b[0;32m    896\u001b[0m       \u001b[1;32mif\u001b[0m \u001b[0mrun_metadata\u001b[0m\u001b[1;33m:\u001b[0m\u001b[1;33m\u001b[0m\u001b[0m\n\u001b[0;32m    897\u001b[0m         \u001b[0mproto_data\u001b[0m \u001b[1;33m=\u001b[0m \u001b[0mtf_session\u001b[0m\u001b[1;33m.\u001b[0m\u001b[0mTF_GetBuffer\u001b[0m\u001b[1;33m(\u001b[0m\u001b[0mrun_metadata_ptr\u001b[0m\u001b[1;33m)\u001b[0m\u001b[1;33m\u001b[0m\u001b[0m\n",
      "\u001b[1;32m~\\Anaconda3\\lib\\site-packages\\tensorflow\\python\\client\\session.py\u001b[0m in \u001b[0;36m_run\u001b[1;34m(self, handle, fetches, feed_dict, options, run_metadata)\u001b[0m\n\u001b[0;32m   1122\u001b[0m     \u001b[1;32mif\u001b[0m \u001b[0mfinal_fetches\u001b[0m \u001b[1;32mor\u001b[0m \u001b[0mfinal_targets\u001b[0m \u001b[1;32mor\u001b[0m \u001b[1;33m(\u001b[0m\u001b[0mhandle\u001b[0m \u001b[1;32mand\u001b[0m \u001b[0mfeed_dict_tensor\u001b[0m\u001b[1;33m)\u001b[0m\u001b[1;33m:\u001b[0m\u001b[1;33m\u001b[0m\u001b[0m\n\u001b[0;32m   1123\u001b[0m       results = self._do_run(handle, final_targets, final_fetches,\n\u001b[1;32m-> 1124\u001b[1;33m                              feed_dict_tensor, options, run_metadata)\n\u001b[0m\u001b[0;32m   1125\u001b[0m     \u001b[1;32melse\u001b[0m\u001b[1;33m:\u001b[0m\u001b[1;33m\u001b[0m\u001b[0m\n\u001b[0;32m   1126\u001b[0m       \u001b[0mresults\u001b[0m \u001b[1;33m=\u001b[0m \u001b[1;33m[\u001b[0m\u001b[1;33m]\u001b[0m\u001b[1;33m\u001b[0m\u001b[0m\n",
      "\u001b[1;32m~\\Anaconda3\\lib\\site-packages\\tensorflow\\python\\client\\session.py\u001b[0m in \u001b[0;36m_do_run\u001b[1;34m(self, handle, target_list, fetch_list, feed_dict, options, run_metadata)\u001b[0m\n\u001b[0;32m   1319\u001b[0m     \u001b[1;32mif\u001b[0m \u001b[0mhandle\u001b[0m \u001b[1;32mis\u001b[0m \u001b[1;32mNone\u001b[0m\u001b[1;33m:\u001b[0m\u001b[1;33m\u001b[0m\u001b[0m\n\u001b[0;32m   1320\u001b[0m       return self._do_call(_run_fn, self._session, feeds, fetches, targets,\n\u001b[1;32m-> 1321\u001b[1;33m                            options, run_metadata)\n\u001b[0m\u001b[0;32m   1322\u001b[0m     \u001b[1;32melse\u001b[0m\u001b[1;33m:\u001b[0m\u001b[1;33m\u001b[0m\u001b[0m\n\u001b[0;32m   1323\u001b[0m       \u001b[1;32mreturn\u001b[0m \u001b[0mself\u001b[0m\u001b[1;33m.\u001b[0m\u001b[0m_do_call\u001b[0m\u001b[1;33m(\u001b[0m\u001b[0m_prun_fn\u001b[0m\u001b[1;33m,\u001b[0m \u001b[0mself\u001b[0m\u001b[1;33m.\u001b[0m\u001b[0m_session\u001b[0m\u001b[1;33m,\u001b[0m \u001b[0mhandle\u001b[0m\u001b[1;33m,\u001b[0m \u001b[0mfeeds\u001b[0m\u001b[1;33m,\u001b[0m \u001b[0mfetches\u001b[0m\u001b[1;33m)\u001b[0m\u001b[1;33m\u001b[0m\u001b[0m\n",
      "\u001b[1;32m~\\Anaconda3\\lib\\site-packages\\tensorflow\\python\\client\\session.py\u001b[0m in \u001b[0;36m_do_call\u001b[1;34m(self, fn, *args)\u001b[0m\n\u001b[0;32m   1338\u001b[0m         \u001b[1;32mexcept\u001b[0m \u001b[0mKeyError\u001b[0m\u001b[1;33m:\u001b[0m\u001b[1;33m\u001b[0m\u001b[0m\n\u001b[0;32m   1339\u001b[0m           \u001b[1;32mpass\u001b[0m\u001b[1;33m\u001b[0m\u001b[0m\n\u001b[1;32m-> 1340\u001b[1;33m       \u001b[1;32mraise\u001b[0m \u001b[0mtype\u001b[0m\u001b[1;33m(\u001b[0m\u001b[0me\u001b[0m\u001b[1;33m)\u001b[0m\u001b[1;33m(\u001b[0m\u001b[0mnode_def\u001b[0m\u001b[1;33m,\u001b[0m \u001b[0mop\u001b[0m\u001b[1;33m,\u001b[0m \u001b[0mmessage\u001b[0m\u001b[1;33m)\u001b[0m\u001b[1;33m\u001b[0m\u001b[0m\n\u001b[0m\u001b[0;32m   1341\u001b[0m \u001b[1;33m\u001b[0m\u001b[0m\n\u001b[0;32m   1342\u001b[0m   \u001b[1;32mdef\u001b[0m \u001b[0m_extend_graph\u001b[0m\u001b[1;33m(\u001b[0m\u001b[0mself\u001b[0m\u001b[1;33m)\u001b[0m\u001b[1;33m:\u001b[0m\u001b[1;33m\u001b[0m\u001b[0m\n",
      "\u001b[1;31mInternalError\u001b[0m: Blas GEMM launch failed : a.shape=(1024, 16), b.shape=(16, 16), m=1024, n=16, k=16\n\t [[Node: bidirectional_4/while/MatMul_4 = MatMul[T=DT_FLOAT, transpose_a=false, transpose_b=false, _device=\"/job:localhost/replica:0/task:0/gpu:0\"](bidirectional_4/while/Identity_2, bidirectional_4/while/MatMul_4/Enter)]]\n\t [[Node: loss/time_distributed_8_loss/Mean_3/_2287 = _Recv[client_terminated=false, recv_device=\"/job:localhost/replica:0/task:0/cpu:0\", send_device=\"/job:localhost/replica:0/task:0/gpu:0\", send_device_incarnation=1, tensor_name=\"edge_158730_loss/time_distributed_8_loss/Mean_3\", tensor_type=DT_FLOAT, _device=\"/job:localhost/replica:0/task:0/cpu:0\"]()]]\n\nCaused by op 'bidirectional_4/while/MatMul_4', defined at:\n  File \"C:\\Users\\Josh_\\Anaconda3\\lib\\runpy.py\", line 193, in _run_module_as_main\n    \"__main__\", mod_spec)\n  File \"C:\\Users\\Josh_\\Anaconda3\\lib\\runpy.py\", line 85, in _run_code\n    exec(code, run_globals)\n  File \"C:\\Users\\Josh_\\Anaconda3\\lib\\site-packages\\ipykernel_launcher.py\", line 16, in <module>\n    app.launch_new_instance()\n  File \"C:\\Users\\Josh_\\Anaconda3\\lib\\site-packages\\traitlets\\config\\application.py\", line 658, in launch_instance\n    app.start()\n  File \"C:\\Users\\Josh_\\Anaconda3\\lib\\site-packages\\ipykernel\\kernelapp.py\", line 477, in start\n    ioloop.IOLoop.instance().start()\n  File \"C:\\Users\\Josh_\\Anaconda3\\lib\\site-packages\\zmq\\eventloop\\ioloop.py\", line 177, in start\n    super(ZMQIOLoop, self).start()\n  File \"C:\\Users\\Josh_\\Anaconda3\\lib\\site-packages\\tornado\\ioloop.py\", line 888, in start\n    handler_func(fd_obj, events)\n  File \"C:\\Users\\Josh_\\Anaconda3\\lib\\site-packages\\tornado\\stack_context.py\", line 277, in null_wrapper\n    return fn(*args, **kwargs)\n  File \"C:\\Users\\Josh_\\Anaconda3\\lib\\site-packages\\zmq\\eventloop\\zmqstream.py\", line 440, in _handle_events\n    self._handle_recv()\n  File \"C:\\Users\\Josh_\\Anaconda3\\lib\\site-packages\\zmq\\eventloop\\zmqstream.py\", line 472, in _handle_recv\n    self._run_callback(callback, msg)\n  File \"C:\\Users\\Josh_\\Anaconda3\\lib\\site-packages\\zmq\\eventloop\\zmqstream.py\", line 414, in _run_callback\n    callback(*args, **kwargs)\n  File \"C:\\Users\\Josh_\\Anaconda3\\lib\\site-packages\\tornado\\stack_context.py\", line 277, in null_wrapper\n    return fn(*args, **kwargs)\n  File \"C:\\Users\\Josh_\\Anaconda3\\lib\\site-packages\\ipykernel\\kernelbase.py\", line 283, in dispatcher\n    return self.dispatch_shell(stream, msg)\n  File \"C:\\Users\\Josh_\\Anaconda3\\lib\\site-packages\\ipykernel\\kernelbase.py\", line 235, in dispatch_shell\n    handler(stream, idents, msg)\n  File \"C:\\Users\\Josh_\\Anaconda3\\lib\\site-packages\\ipykernel\\kernelbase.py\", line 399, in execute_request\n    user_expressions, allow_stdin)\n  File \"C:\\Users\\Josh_\\Anaconda3\\lib\\site-packages\\ipykernel\\ipkernel.py\", line 196, in do_execute\n    res = shell.run_cell(code, store_history=store_history, silent=silent)\n  File \"C:\\Users\\Josh_\\Anaconda3\\lib\\site-packages\\ipykernel\\zmqshell.py\", line 533, in run_cell\n    return super(ZMQInteractiveShell, self).run_cell(*args, **kwargs)\n  File \"C:\\Users\\Josh_\\Anaconda3\\lib\\site-packages\\IPython\\core\\interactiveshell.py\", line 2728, in run_cell\n    interactivity=interactivity, compiler=compiler, result=result)\n  File \"C:\\Users\\Josh_\\Anaconda3\\lib\\site-packages\\IPython\\core\\interactiveshell.py\", line 2850, in run_ast_nodes\n    if self.run_code(code, result):\n  File \"C:\\Users\\Josh_\\Anaconda3\\lib\\site-packages\\IPython\\core\\interactiveshell.py\", line 2910, in run_code\n    exec(code_obj, self.user_global_ns, self.user_ns)\n  File \"<ipython-input-15-6d50e6de77d1>\", line 13, in <module>\n    en_out_a_off = encode_layer(3,16,input_off_amp)\n  File \"<ipython-input-13-66729a356738>\", line 3, in encode_layer\n    x = Bidirectional(LSTM(numbernodes, return_sequences=True))(x)\n  File \"C:\\Users\\Josh_\\Anaconda3\\lib\\site-packages\\keras\\engine\\topology.py\", line 603, in __call__\n    output = self.call(inputs, **kwargs)\n  File \"C:\\Users\\Josh_\\Anaconda3\\lib\\site-packages\\keras\\layers\\wrappers.py\", line 290, in call\n    y = self.forward_layer.call(inputs, **kwargs)\n  File \"C:\\Users\\Josh_\\Anaconda3\\lib\\site-packages\\keras\\layers\\recurrent.py\", line 2023, in call\n    initial_state=initial_state)\n  File \"C:\\Users\\Josh_\\Anaconda3\\lib\\site-packages\\keras\\layers\\recurrent.py\", line 589, in call\n    input_length=timesteps)\n  File \"C:\\Users\\Josh_\\Anaconda3\\lib\\site-packages\\keras\\backend\\tensorflow_backend.py\", line 2646, in rnn\n    swap_memory=True)\n  File \"C:\\Users\\Josh_\\Anaconda3\\lib\\site-packages\\tensorflow\\python\\ops\\control_flow_ops.py\", line 2775, in while_loop\n    result = context.BuildLoop(cond, body, loop_vars, shape_invariants)\n  File \"C:\\Users\\Josh_\\Anaconda3\\lib\\site-packages\\tensorflow\\python\\ops\\control_flow_ops.py\", line 2604, in BuildLoop\n    pred, body, original_loop_vars, loop_vars, shape_invariants)\n  File \"C:\\Users\\Josh_\\Anaconda3\\lib\\site-packages\\tensorflow\\python\\ops\\control_flow_ops.py\", line 2554, in _BuildLoop\n    body_result = body(*packed_vars_for_body)\n  File \"C:\\Users\\Josh_\\Anaconda3\\lib\\site-packages\\keras\\backend\\tensorflow_backend.py\", line 2632, in _step\n    tuple(constants))\n  File \"C:\\Users\\Josh_\\Anaconda3\\lib\\site-packages\\keras\\layers\\recurrent.py\", line 580, in step\n    return self.cell.call(inputs, states, **kwargs)\n  File \"C:\\Users\\Josh_\\Anaconda3\\lib\\site-packages\\keras\\layers\\recurrent.py\", line 1836, in call\n    self.recurrent_kernel_i))\n  File \"C:\\Users\\Josh_\\Anaconda3\\lib\\site-packages\\keras\\backend\\tensorflow_backend.py\", line 1057, in dot\n    out = tf.matmul(x, y)\n  File \"C:\\Users\\Josh_\\Anaconda3\\lib\\site-packages\\tensorflow\\python\\ops\\math_ops.py\", line 1844, in matmul\n    a, b, transpose_a=transpose_a, transpose_b=transpose_b, name=name)\n  File \"C:\\Users\\Josh_\\Anaconda3\\lib\\site-packages\\tensorflow\\python\\ops\\gen_math_ops.py\", line 1289, in _mat_mul\n    transpose_b=transpose_b, name=name)\n  File \"C:\\Users\\Josh_\\Anaconda3\\lib\\site-packages\\tensorflow\\python\\framework\\op_def_library.py\", line 767, in apply_op\n    op_def=op_def)\n  File \"C:\\Users\\Josh_\\Anaconda3\\lib\\site-packages\\tensorflow\\python\\framework\\ops.py\", line 2630, in create_op\n    original_op=self._default_original_op, op_def=op_def)\n  File \"C:\\Users\\Josh_\\Anaconda3\\lib\\site-packages\\tensorflow\\python\\framework\\ops.py\", line 1204, in __init__\n    self._traceback = self._graph._extract_stack()  # pylint: disable=protected-access\n\nInternalError (see above for traceback): Blas GEMM launch failed : a.shape=(1024, 16), b.shape=(16, 16), m=1024, n=16, k=16\n\t [[Node: bidirectional_4/while/MatMul_4 = MatMul[T=DT_FLOAT, transpose_a=false, transpose_b=false, _device=\"/job:localhost/replica:0/task:0/gpu:0\"](bidirectional_4/while/Identity_2, bidirectional_4/while/MatMul_4/Enter)]]\n\t [[Node: loss/time_distributed_8_loss/Mean_3/_2287 = _Recv[client_terminated=false, recv_device=\"/job:localhost/replica:0/task:0/cpu:0\", send_device=\"/job:localhost/replica:0/task:0/gpu:0\", send_device_incarnation=1, tensor_name=\"edge_158730_loss/time_distributed_8_loss/Mean_3\", tensor_type=DT_FLOAT, _device=\"/job:localhost/replica:0/task:0/cpu:0\"]()]]\n"
     ]
    }
   ],
   "source": [
    "Path = 'relu1'\n",
    "make_folder(Path)\n",
    "tbCallBack = keras.callbacks.TensorBoard(\n",
    "    log_dir='./' + Path, histogram_freq=0, write_graph=True, write_images=True)\n",
    "filepath = './' + Path + '/weights.{epoch:02d}-{val_loss:.2f}.hdf5'\n",
    "checkpoint = keras.callbacks.ModelCheckpoint(filepath, verbose=0, save_best_only=False,\n",
    "                                             save_weights_only=False, mode='min', period=1)\n",
    "#from keras.utils import multi_gpu_model\n",
    "\n",
    "# Replicates `model` on 2 GPUs.\n",
    "# This assumes that your machine has 2 available GPUs.\n",
    "#parallel_model = multi_gpu_model(model, gpus=2)\n",
    "#parallel_model.compile(optimizer=Adam(3e-5),loss='mse')\n",
    "model.fit([amp_off,phase_off,freq_off,qf_off, amp_on, phase_on, freq_on, qf_on], \n",
    "          [amp_off,phase_off,freq_off,qf_off, amp_on, phase_on, freq_on, qf_on],\n",
    "          validation_data=([amp_off,phase_off,freq_off,qf_off, amp_on, phase_on, freq_on, qf_on], \n",
    "          [amp_off,phase_off,freq_off,qf_off, amp_on, phase_on, freq_on, qf_on]),\n",
    "          epochs=20000,batch_size=1024, callbacks=[tbCallBack, checkpoint])\n"
   ]
  },
  {
   "cell_type": "code",
   "execution_count": null,
   "metadata": {
    "collapsed": true
   },
   "outputs": [],
   "source": [
    "model.save('./' + Path + '/end')"
   ]
  },
  {
   "cell_type": "code",
   "execution_count": null,
   "metadata": {
    "collapsed": true
   },
   "outputs": [],
   "source": [
    "dc_vec[0:128].shape"
   ]
  },
  {
   "cell_type": "code",
   "execution_count": null,
   "metadata": {
    "collapsed": true
   },
   "outputs": [],
   "source": [
    "model.summary()"
   ]
  },
  {
   "cell_type": "code",
   "execution_count": null,
   "metadata": {
    "collapsed": true
   },
   "outputs": [],
   "source": [
    "e = Nd_mat[\"Amplitude [V]\"][:,:,:,1,2].reshape(-1,128)\n",
    "\n",
    "h5_sho_spec_inds = px.hdf_utils.getAuxData(h5_sho_fit, auxDataName='Spectroscopic_Indices')[0]\n",
    "h5_sho_spec_vals = px.hdf_utils.getAuxData(h5_sho_fit, auxDataName='Spectroscopic_Values')[0]\n",
    "\n",
    "voltage_reshape = h5_sho_spec_vals[1] + h5_sho_spec_vals[2]\n",
    "\n",
    "voltage_reshape.shape\n",
    "\n",
    "dc_vec=dc_vec[::124]\n",
    "plt.plot(dc_vec[0:128],amp_off[100])"
   ]
  },
  {
   "cell_type": "code",
   "execution_count": null,
   "metadata": {
    "collapsed": true
   },
   "outputs": [],
   "source": [
    "h5_file = h5_main.file\n",
    "h5_spec_vals = h5_file[px.io.hdf_utils.get_attr(h5_main, 'Spectroscopic_Values')]\n",
    " \n",
    "dc_vec = np.squeeze(h5_spec_vals[h5_spec_vals.attrs['DC_Offset']])\n"
   ]
  },
  {
   "cell_type": "code",
   "execution_count": null,
   "metadata": {
    "collapsed": true
   },
   "outputs": [],
   "source": [
    "\n",
    "\n",
    "model = Model(inputs=input_off_amp, outputs=out)\n"
   ]
  },
  {
   "cell_type": "code",
   "execution_count": null,
   "metadata": {
    "collapsed": true
   },
   "outputs": [],
   "source": [
    "type(e)"
   ]
  },
  {
   "cell_type": "code",
   "execution_count": null,
   "metadata": {
    "collapsed": true
   },
   "outputs": [],
   "source": [
    "model.summary()"
   ]
  },
  {
   "cell_type": "code",
   "execution_count": null,
   "metadata": {
    "collapsed": true
   },
   "outputs": [],
   "source": [
    "from keras.utils import multi_gpu_model\n",
    "\n",
    "# Replicates `model` on 8 GPUs.\n",
    "# This assumes that your machine has 8 available GPUs.\n",
    "parallel_model = multi_gpu_model(model, gpus=8)\n",
    "parallel_model.compile(loss='categorical_crossentropy',\n",
    "                       optimizer='rmsprop')\n",
    "\n",
    "# This `fit` call will be distributed on 8 GPUs.\n",
    "# Since the batch size is 256, each GPU will process 32 samples.\n",
    "parallel_model.fit(x, y, epochs=20, batch_size=256)"
   ]
  }
 ],
 "metadata": {
  "kernelspec": {
   "display_name": "Python 3",
   "language": "python",
   "name": "python3"
  },
  "language_info": {
   "codemirror_mode": {
    "name": "ipython",
    "version": 3
   },
   "file_extension": ".py",
   "mimetype": "text/x-python",
   "name": "python",
   "nbconvert_exporter": "python",
   "pygments_lexer": "ipython3",
   "version": "3.6.1"
  }
 },
 "nbformat": 4,
 "nbformat_minor": 2
}
